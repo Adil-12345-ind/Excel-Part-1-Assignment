{
  "nbformat": 4,
  "nbformat_minor": 0,
  "metadata": {
    "colab": {
      "provenance": []
    },
    "kernelspec": {
      "name": "python3",
      "display_name": "Python 3"
    },
    "language_info": {
      "name": "python"
    }
  },
  "cells": [
    {
      "cell_type": "markdown",
      "source": [
        "Assignment Code: DA-AG-019"
      ],
      "metadata": {
        "id": "G5e-4tFyR-Fj"
      }
    },
    {
      "cell_type": "markdown",
      "source": [
        "# Excel Part 1 | Assignment"
      ],
      "metadata": {
        "id": "ohSvADG1SAMg"
      }
    },
    {
      "cell_type": "markdown",
      "source": [
        "1. What is the difference between 'Paste' and 'Paste Special' in Excel? Briefly\n",
        "explain with examples.\n",
        " - In Microsoft Excel, both \"Paste\" and \"Paste Special\" are used to insert copied data, but they serve different purposes:\n",
        "\n",
        "✅ Paste:\n",
        "\n",
        "Definition: Inserts all the copied content (values, formatting, formulas, etc.) into the selected cell(s).\n",
        "\n",
        "Use Case Example:\n",
        "\n",
        "You copy a cell with a formula: =A1+B1\n",
        "\n",
        "Using Paste, Excel pastes the formula, not just the result.\n",
        "\n",
        "✅ Paste Special:\n",
        "\n",
        "Definition: Allows you to choose specific elements of the copied data to paste, such as only the values, formats, formulas, comments, etc.\n",
        "\n",
        "Use Case Examples:\n",
        "\n",
        "Paste Values Only:\n",
        "\n",
        "You copy a cell with =A1+B1 (result is 10).\n",
        "\n",
        "Using Paste Special > Values, Excel pastes only 10 — not the formula.\n",
        "\n",
        "Paste Formats Only:\n",
        "\n",
        "You copy a cell with a specific background color and font.\n",
        "\n",
        "Using Paste Special > Formats, you apply that formatting to another cell without changing its content.\n",
        "\n",
        "Paste Transpose:\n",
        "\n",
        "Copies a row and pastes it as a column (or vice versa).\n",
        "\n",
        "🔍 Summary Table:\n",
        "| Feature        | Paste                  | Paste Special                               |\n",
        "| -------------- | ---------------------- | ------------------------------------------- |\n",
        "| What it pastes | Everything             | Only selected parts (values, formats, etc.) |\n",
        "| Flexibility    | Limited                | Very flexible                               |\n",
        "| Example        | Formula and formatting | Only value, only format, transpose, etc.    |\n"
      ],
      "metadata": {
        "id": "39hpXb7pSFYN"
      }
    },
    {
      "cell_type": "markdown",
      "source": [
        "2. Describe the functions and usefulness of 'Freeze Panes' and 'Split Panes'\n",
        "in Excel.\n",
        " - In Microsoft Excel, both Freeze Panes and Split Panes are used to manage large worksheets, especially when dealing with a lot of rows or columns. However, they function differently and serve distinct purposes.\n",
        "\n",
        "✅ 1. Freeze Panes\n",
        "\n",
        "Function:\n",
        "\n",
        "Freezes specific rows or columns so they stay visible while you scroll through the rest of the worksheet.\n",
        "\n",
        "Usefulness:\n",
        "\n",
        "Helps keep headers (like column or row titles) always visible.\n",
        "\n",
        "Useful when working with large datasets where you need to constantly refer to titles or labels.\n",
        "\n",
        "Example Use Case:\n",
        "\n",
        "You have column headers in Row 1 and scroll down hundreds of rows — freeze Row 1 so you always see the headers.\n",
        "\n",
        "Options:\n",
        "\n",
        "Freeze Top Row: Keeps the first row visible.\n",
        "\n",
        "Freeze First Column: Keeps the first column visible.\n",
        "\n",
        "Freeze Panes: Freezes rows above and columns to the left of the selected cell.\n",
        "\n",
        "✅ 2. Split Panes\n",
        "\n",
        "Function:\n",
        "\n",
        "Splits the window into two or four separate panes so you can scroll each pane independently.\n",
        "\n",
        "Usefulness:\n",
        "\n",
        "Lets you compare different parts of the worksheet side-by-side or top-and-bottom.\n",
        "\n",
        "Great for reviewing and cross-checking data in large sheets.\n",
        "\n",
        "Example Use Case:\n",
        "\n",
        "You want to compare data in Row 5 and Row 500 without losing sight of either — use Split to view both areas simultaneously.\n",
        "\n",
        "How it Works:\n",
        "\n",
        "Horizontal Split: Splits the sheet into top and bottom sections.\n",
        "\n",
        "Vertical Split: Splits the sheet into left and right sections.\n",
        "\n",
        "Both: Creates four panes.\n",
        "\n",
        "🔍 Comparison Table\n",
        "| Feature        | Freeze Panes                       | Split Panes                                    |\n",
        "| -------------- | ---------------------------------- | ---------------------------------------------- |\n",
        "| Purpose        | Keep specific rows/columns visible | View different parts of the worksheet          |\n",
        "| Scrolling      | Only the **unfrozen** part scrolls | All panes scroll **independently**             |\n",
        "| Visibility     | Good for keeping headers in view   | Good for side-by-side or top-bottom comparison |\n",
        "| Dynamic Update | Static until unfrozen manually     | Can adjust or remove easily                    |\n"
      ],
      "metadata": {
        "id": "u2zr1fGxVDEg"
      }
    },
    {
      "cell_type": "markdown",
      "source": [
        "3. Explain the difference between inserting a new row and inserting a new\n",
        "column in Excel. Can you insert multiple rows or columns at once?\n",
        " - ✅ Difference Between Inserting a Row and a Column in Excel\n",
        " | Action         | Inserting a **Row**                  | Inserting a **Column**                   |\n",
        "| -------------- | ------------------------------------ | ---------------------------------------- |\n",
        "| **Direction**  | Adds a new row **horizontally**      | Adds a new column **vertically**         |\n",
        "| **Effect**     | Pushes existing rows **down**        | Pushes existing columns **to the right** |\n",
        "| **Applies To** | Entire row (all columns in that row) | Entire column (all rows in that column)  |\n",
        "\n",
        "🧩 Examples:\n",
        "\n",
        "Insert Row Example:\n",
        "\n",
        "Right-click on Row 5 and choose \"Insert\" → A new row is added above Row 5, shifting current Row 5 (and everything below) down.\n",
        "\n",
        "Insert Column Example:\n",
        "\n",
        "Right-click on Column C and choose \"Insert\" → A new column is added to the left of Column C, shifting C and all columns to the right.\n",
        "\n",
        "✅ Can You Insert Multiple Rows or Columns at Once?\n",
        "\n",
        "Yes!\n",
        "\n",
        "✔️ Steps to Insert Multiple Rows:\n",
        "\n",
        "Select the number of rows equal to how many you want to insert.\n",
        "\n",
        "Right-click → Insert\n",
        "\n",
        "Example: Select 3 rows, right-click → Insert → 3 new rows are added above the selection.\n",
        "\n",
        "✔️ Steps to Insert Multiple Columns:\n",
        "\n",
        "Select multiple columns.\n",
        "\n",
        "Right-click → Insert\n",
        "\n",
        "Example: Select 2 columns, right-click → Insert → 2 new columns are added to the left of the selection."
      ],
      "metadata": {
        "id": "456a24YoVUwr"
      }
    },
    {
      "cell_type": "markdown",
      "source": [
        "4. What are logical functions in Excel? Provide examples of at least two\n",
        "logical functions and their applications.\n",
        " - ✅ What Are Logical Functions in Excel?\n",
        "\n",
        "Logical functions in Excel are used to perform decision-making operations based on true/false conditions. They help you analyze data by testing conditions and returning different results depending on whether the condition is TRUE or FALSE.\n",
        "\n",
        "🔹 1. IF Function\n",
        "\n",
        "Purpose:\n",
        "Returns one value if a condition is TRUE and another if it is FALSE.\n",
        "\n",
        "Syntax:"
      ],
      "metadata": {
        "id": "0fMBa0OmWtlt"
      }
    },
    {
      "cell_type": "code",
      "source": [
        "=IF(condition, value_if_true, value_if_false)\n"
      ],
      "metadata": {
        "id": "NrI1FUEJW7T7"
      },
      "execution_count": null,
      "outputs": []
    },
    {
      "cell_type": "markdown",
      "source": [
        "Example:"
      ],
      "metadata": {
        "id": "OJDe2wXIXBKK"
      }
    },
    {
      "cell_type": "code",
      "source": [
        "=IF(A2>50, \"Pass\", \"Fail\")\n"
      ],
      "metadata": {
        "id": "4_HBYJDwXCiK"
      },
      "execution_count": null,
      "outputs": []
    },
    {
      "cell_type": "markdown",
      "source": [
        "Application:\n",
        "\n",
        "Checks if the value in cell A2 is greater than 50.\n",
        "\n",
        "Returns \"Pass\" if true, \"Fail\" if false.\n",
        "\n",
        "✅ Useful for grading systems, budget checks, etc.\n",
        "\n",
        "🔹 2. AND Function\n",
        "\n",
        "Purpose:\n",
        "Returns TRUE if all conditions are true; otherwise, returns FALSE.\n",
        "\n",
        "Syntax:"
      ],
      "metadata": {
        "id": "Ya2SfC17XEgk"
      }
    },
    {
      "cell_type": "code",
      "source": [
        "=AND(condition1, condition2, ...)\n"
      ],
      "metadata": {
        "id": "1EpWylrEXIKe"
      },
      "execution_count": null,
      "outputs": []
    },
    {
      "cell_type": "markdown",
      "source": [
        "Example:"
      ],
      "metadata": {
        "id": "6QFd6zrjXKei"
      }
    },
    {
      "cell_type": "code",
      "source": [
        "=AND(A2>50, B2<100)\n"
      ],
      "metadata": {
        "id": "ycwsoM42XMyZ"
      },
      "execution_count": null,
      "outputs": []
    },
    {
      "cell_type": "markdown",
      "source": [
        "Application:\n",
        "\n",
        "Checks if A2 is greater than 50 AND B2 is less than 100.\n",
        "\n",
        "Returns TRUE only if both conditions are met.\n",
        "\n",
        "✅ Useful in filtering data with multiple conditions.\n",
        "\n",
        "🔹 Other Common Logical Functions:"
      ],
      "metadata": {
        "id": "aB5lIYXrXRG_"
      }
    },
    {
      "cell_type": "markdown",
      "source": [
        "| Function    | Description                                             |\n",
        "| ----------- | ------------------------------------------------------- |\n",
        "| `OR()`      | Returns TRUE if **any** condition is true               |\n",
        "| `NOT()`     | Reverses the result (TRUE becomes FALSE)                |\n",
        "| `IFERROR()` | Returns a custom value if a formula results in an error |\n"
      ],
      "metadata": {
        "id": "JeWUmcj2XU0V"
      }
    },
    {
      "cell_type": "markdown",
      "source": [
        "✅ Summary Table\n",
        "| Function | Example                      | Result          | Use Case                  |\n",
        "| -------- | ---------------------------- | --------------- | ------------------------- |\n",
        "| `IF`     | `=IF(A1>100, \"High\", \"Low\")` | \"High\" or \"Low\" | Conditional decisions     |\n",
        "| `AND`    | `=AND(A1>10, B1<50)`         | TRUE or FALSE   | Check multiple conditions |\n"
      ],
      "metadata": {
        "id": "uLUQr1m7XZ78"
      }
    },
    {
      "cell_type": "markdown",
      "source": [
        "5. Discuss the purpose of 'XLOOKUP' and how it differs from the traditional\n",
        "'VLOOKUP' function.\n",
        " - ✅ Purpose of XLOOKUP in Excel\n",
        "\n",
        "The XLOOKUP function is used to search for a value in a range or array and return a corresponding value from another range — similar to VLOOKUP and HLOOKUP, but more powerful and flexible.\n",
        "\n",
        "🔍 Basic Syntax of XLOOKUP:"
      ],
      "metadata": {
        "id": "6N0v_tTQXjTx"
      }
    },
    {
      "cell_type": "code",
      "source": [
        "=XLOOKUP(lookup_value, lookup_array, return_array, [if_not_found], [match_mode], [search_mode])\n"
      ],
      "metadata": {
        "id": "ZsVkJFyPXry6"
      },
      "execution_count": null,
      "outputs": []
    },
    {
      "cell_type": "markdown",
      "source": [
        "lookup_value: What you’re searching for\n",
        "\n",
        "lookup_array: Where to search\n",
        "\n",
        "return_array: What to return\n",
        "\n",
        "[if_not_found]: Optional message if not found (e.g., \"Not Found\")\n",
        "\n",
        "[match_mode]: 0 = exact match (default), -1 = exact or next smaller, 1 = exact or next larger\n",
        "\n",
        "[search_mode]: 1 = first-to-last, -1 = last-to-first"
      ],
      "metadata": {
        "id": "EuwZtB45Xtpo"
      }
    },
    {
      "cell_type": "markdown",
      "source": [
        "✅ Example:\n",
        "Using XLOOKUP:"
      ],
      "metadata": {
        "id": "cV-Rm6zsXzZx"
      }
    },
    {
      "cell_type": "code",
      "source": [
        "=XLOOKUP(\"John\", A2:A10, B2:B10, \"Not Found\")\n"
      ],
      "metadata": {
        "id": "Ph3QuC0-X1xX"
      },
      "execution_count": null,
      "outputs": []
    },
    {
      "cell_type": "markdown",
      "source": [
        "Searches for “John” in column A.\n",
        "\n",
        "Returns the corresponding value from column B.\n",
        "\n",
        "If not found, returns \"Not Found\".\n",
        "\n",
        "🔁 How XLOOKUP Differs from VLOOKUP:\n",
        "| Feature                 | `VLOOKUP`                          | `XLOOKUP`                           |\n",
        "| ----------------------- | ---------------------------------- | ----------------------------------- |\n",
        "| **Direction**           | Only looks **right**               | Can look **left or right**          |\n",
        "| **Exact Match Default** | **FALSE** (approximate)            | **TRUE** (exact)                    |\n",
        "| **Column Index Needed** | Yes (e.g., 2 for second column)    | No — uses **return array directly** |\n",
        "| **Error Handling**      | Use `IFERROR` or `IFNA` separately | Built-in `if_not_found` argument    |\n",
        "| **Inserting Columns**   | Breaks the formula                 | Not affected                        |\n",
        "| **Horizontal Lookups**  | Use `HLOOKUP`                      | Handled by `XLOOKUP`                |\n",
        "\n",
        "🧠 Example Comparison:\n",
        "VLOOKUP:"
      ],
      "metadata": {
        "id": "0ZfXlKVDX4lO"
      }
    },
    {
      "cell_type": "code",
      "source": [
        "=VLOOKUP(\"John\", A2:C10, 3, FALSE)\n"
      ],
      "metadata": {
        "id": "5GErlE1NYBFZ"
      },
      "execution_count": null,
      "outputs": []
    },
    {
      "cell_type": "markdown",
      "source": [
        "Searches column A for \"John\" and returns from column C (3rd column).\n",
        "\n",
        "XLOOKUP:"
      ],
      "metadata": {
        "id": "ejZlr0rMYEJo"
      }
    },
    {
      "cell_type": "code",
      "source": [
        "=XLOOKUP(\"John\", A2:A10, C2:C10)\n"
      ],
      "metadata": {
        "id": "k-xsXPKwYE7O"
      },
      "execution_count": null,
      "outputs": []
    },
    {
      "cell_type": "markdown",
      "source": [
        "Does the same, but more readable and reliable.\n",
        "\n",
        "✅ Why Use XLOOKUP?\n",
        "\n",
        "Replaces VLOOKUP, HLOOKUP, and LOOKUP\n",
        "\n",
        "Easier to use and understand\n",
        "\n",
        "More robust against data changes\n",
        "\n",
        "Cleaner formulas"
      ],
      "metadata": {
        "id": "mO1yCKGTYI2m"
      }
    },
    {
      "cell_type": "markdown",
      "source": [
        "6. Create a worksheet titled 'Employee Data' with columns: Name, Age,\n",
        "Department. Add 5 rows of data.\n",
        "Format as follows:\n",
        "● Bold and center-align the header row\n",
        "● Apply a fill color\n",
        "● Auto-fit column width\n",
        " - Here's how to create and format a worksheet titled \"Employee Data\" in Excel, with the requested steps:\n",
        "\n",
        "📋 Step-by-Step Instructions:\n",
        "1. Enter the Data\n",
        "\n",
        "In a new worksheet (rename it to \"Employee Data\"):\n",
        "| **A**       | **B**   | **C**          |\n",
        "| ----------- | ------- | -------------- |\n",
        "| **Name**    | **Age** | **Department** |\n",
        "| Alice Smith | 28      | Marketing      |\n",
        "| John Carter | 35      | Sales          |\n",
        "| Linda Perez | 42      | HR             |\n",
        "| David Brown | 30      | IT             |\n",
        "| Sarah Jones | 25      | Finance        |\n",
        "2. Bold and Center-Align the Header Row\n",
        "\n",
        "Select the header row (A1:C1).\n",
        "\n",
        "Click Bold (Ctrl + B).\n",
        "\n",
        "Use the Center Align button from the Home tab.\n",
        "\n",
        "3. Apply a Fill Color to Header\n",
        "\n",
        "With the header row still selected (A1:C1):\n",
        "\n",
        "Click the Fill Color icon (paint bucket) on the Home tab.\n",
        "\n",
        "Choose a color like light blue or light gray for visibility.\n",
        "\n",
        "4. Auto-Fit Column Width\n",
        "\n",
        "Select columns A to C (click and drag on the column letters).\n",
        "\n",
        "On the Home tab, click:\n",
        "\n",
        "Format → AutoFit Column Width\n",
        "\n",
        "✅ Result:\n",
        "\n",
        "You’ll now have a worksheet titled Employee Data that:\n",
        "\n",
        "Has clear, centered, and bold headers\n",
        "\n",
        "Uses fill color to highlight the header\n",
        "\n",
        "Neatly fits all content in the columns"
      ],
      "metadata": {
        "id": "AqjKh27_YKE-"
      }
    },
    {
      "cell_type": "markdown",
      "source": [
        "7. Demonstrate how to insert and delete multiple rows and columns in Excel.\n",
        "(Provide screenshots before and after the changes.)\n",
        " - I can guide you through inserting and deleting multiple rows and columns in Excel with clear step-by-step instructions, and if you'd like, I can also generate illustrative mock screenshots to show the before and after.\n",
        "\n",
        "Since I can’t capture your screen, I can simulate what the Excel sheet would look like before and after the operations using visual representations or create images for you. Would you prefer:\n",
        "\n",
        "Visual table illustrations (text-based)\n",
        "\n",
        "Generated screenshots (images)\n",
        "\n",
        "📋 In the meantime, here's a clear demonstration using text-based visuals:\n",
        "✅ EXAMPLE DATA (Before Inserting/Deleting)\n",
        "|   | A     | B   | C          |\n",
        "| - | ----- | --- | ---------- |\n",
        "| 1 | Name  | Age | Department |\n",
        "| 2 | Alice | 28  | HR         |\n",
        "| 3 | John  | 35  | IT         |\n",
        "| 4 | Linda | 42  | Finance    |\n",
        "| 5 | David | 30  | Marketing  |\n",
        "| 6 | Sarah | 25  | Sales      |\n",
        "\n",
        "🔹 To Insert 2 New Rows Above Row 3:\n",
        "Steps:\n",
        "\n",
        "Select 2 entire rows (Row 3 and Row 4).\n",
        "\n",
        "Right-click → Insert.\n",
        "\n",
        "📄 After Inserting Rows:\n",
        "|   | A         | B   | C          |\n",
        "| - | --------- | --- | ---------- |\n",
        "| 1 | Name      | Age | Department |\n",
        "| 2 | Alice     | 28  | HR         |\n",
        "| 3 | *(empty)* |     |            |\n",
        "| 4 | *(empty)* |     |            |\n",
        "| 5 | John      | 35  | IT         |\n",
        "| 6 | Linda     | 42  | Finance    |\n",
        "| 7 | David     | 30  | Marketing  |\n",
        "| 8 | Sarah     | 25  | Sales      |\n",
        "🔹 To Delete 2 Columns (e.g., Columns B and C):\n",
        "Steps:\n",
        "\n",
        "Select columns B and C.\n",
        "\n",
        "Right-click → Delete.\n",
        "\n",
        "📄 After Deleting Columns:\n",
        "|   | A         |\n",
        "| - | --------- |\n",
        "| 1 | Name      |\n",
        "| 2 | Alice     |\n",
        "| 3 | *(empty)* |\n",
        "| 4 | *(empty)* |\n",
        "| 5 | John      |\n",
        "| 6 | Linda     |\n",
        "| 7 | David     |\n",
        "| 8 | Sarah     |\n"
      ],
      "metadata": {
        "id": "WaYF91x9Yejn"
      }
    },
    {
      "cell_type": "markdown",
      "source": [
        "8. Use Excel's 'Find and Replace' feature to update department names in a\n",
        "sample table.\n",
        " - Let's walk through how to use Excel's \"Find and Replace\" feature to update department names in a sample table.\n",
        " 📋 Sample Table (Before Update)\n",
        "\n",
        " | Name        | Age | Department |\n",
        "| ----------- | --- | ---------- |\n",
        "| Alice Smith | 28  | HR         |\n",
        "| John Carter | 35  | IT         |\n",
        "| Linda Perez | 42  | Finance    |\n",
        "| David Brown | 30  | Marketing  |\n",
        "| Sarah Jones | 25  | Sales      |\n",
        "🛠️ Goal:\n",
        "\n",
        "Use Find and Replace to update department names:\n",
        "\n",
        "Replace \"HR\" with \"Human Resources\"\n",
        "\n",
        "Replace \"IT\" with \"Information Technology\"\n",
        "\n",
        "🔎 Steps to Use \"Find and Replace\":\n",
        "\n",
        "Select the Department Column (or entire table if you prefer).\n",
        "\n",
        "Press Ctrl + H to open the Find and Replace dialog.\n",
        "\n",
        "In the \"Find what\" field, type:\n",
        "\n",
        "HR\n",
        "\n",
        "\n",
        "In the \"Replace with\" field, type:\n",
        "\n",
        "Human Resources\n",
        "\n",
        "\n",
        "Click \"Replace All\"\n",
        "\n",
        "Repeat steps 3–5 to replace:\n",
        "\n",
        "\"IT\" with \"Information Technology\"\n",
        "\n",
        "✅ Table After Update\n",
        "| Name        | Age | Department             |\n",
        "| ----------- | --- | ---------------------- |\n",
        "| Alice Smith | 28  | Human Resources        |\n",
        "| John Carter | 35  | Information Technology |\n",
        "| Linda Perez | 42  | Finance                |\n",
        "| David Brown | 30  | Marketing              |\n",
        "| Sarah Jones | 25  | Sales                  |\n"
      ],
      "metadata": {
        "id": "49NUNxPmZzjJ"
      }
    },
    {
      "cell_type": "markdown",
      "source": [
        "9. Create a small numerical dataset and apply the following functions:\n",
        "● AVERAGE\n",
        "● MAX\n",
        "● MIN\n",
        " - Here's a small numerical dataset and how you would apply the AVERAGE, MAX, and MIN functions in Excel.\n",
        "\n",
        "📋 Sample Dataset\n",
        "| **A (Sales)** |\n",
        "| ------------- |\n",
        "| 150           |\n",
        "| 200           |\n",
        "| 175           |\n",
        "| 220           |\n",
        "| 190           |\n",
        "📌 Apply the Functions\n",
        "| Function | Formula           | Result |\n",
        "| -------- | ----------------- | ------ |\n",
        "| AVERAGE  | `=AVERAGE(A1:A5)` | 187    |\n",
        "| MAX      | `=MAX(A1:A5)`     | 220    |\n",
        "| MIN      | `=MIN(A1:A5)`     | 150    |\n",
        "\n",
        "What Each Function Does:\n",
        "\n",
        "AVERAGE: Calculates the mean of the numbers.\n",
        "\n",
        "MAX: Returns the highest number in the range.\n",
        "\n",
        "MIN: Returns the lowest number in the range."
      ],
      "metadata": {
        "id": "IQw17PO9aaUT"
      }
    },
    {
      "cell_type": "markdown",
      "source": [
        "10. You're working with a dataset that contains missing values. As a Data\n",
        "Scientist, explain how you'd detect and handle missing data using Excel.\n",
        "Mention tools like:\n",
        "● Go To Special\n",
        "● ISBLANK\n",
        "● COUNTBLANK\n",
        " - Handling missing data is a crucial step in data cleaning, even in Excel. Here's how you, as a Data Scientist, can detect and manage missing values using Excel tools:\n",
        "\n",
        "🔍 Detecting Missing Values\n",
        "1. Using \"Go To Special\" to Select Blanks\n",
        "\n",
        "Press Ctrl + G (Go To) → Click Special → Select Blanks → Click OK.\n",
        "\n",
        "This highlights all blank (empty) cells in the selected range.\n",
        "\n",
        "Useful for quickly spotting missing data points without scrolling through the entire dataset.\n",
        "\n",
        "2. Using the ISBLANK Function\n",
        "\n",
        "Syntax:"
      ],
      "metadata": {
        "id": "zGzCZPpva2BC"
      }
    },
    {
      "cell_type": "code",
      "source": [
        "=ISBLANK(cell)\n"
      ],
      "metadata": {
        "id": "1dycTaahbEYe"
      },
      "execution_count": null,
      "outputs": []
    },
    {
      "cell_type": "markdown",
      "source": [
        "Returns:\n",
        "\n",
        "TRUE if the cell is empty\n",
        "\n",
        "FALSE if the cell contains any data (including spaces or formulas)\n",
        "\n",
        "Use this in a helper column to flag missing values next to your data.\n",
        "\n",
        "3. Using COUNTBLANK to Count Missing Values\n",
        "\n",
        "Syntax:"
      ],
      "metadata": {
        "id": "Ar3fF2qlbIu7"
      }
    },
    {
      "cell_type": "code",
      "source": [
        "=COUNTBLANK(range)\n"
      ],
      "metadata": {
        "id": "3DX9Ze0qbLVj"
      },
      "execution_count": null,
      "outputs": []
    },
    {
      "cell_type": "markdown",
      "source": [
        "Returns the number of blank cells within a range.\n",
        "\n",
        "Helpful for getting a quick summary of missing data in a column or dataset.\n",
        "\n",
        "🛠️ Handling Missing Data\n",
        "\n",
        "Fill Missing Values:\n",
        "Use Go To Special → Blanks → enter a value/formula (like 0, average, or previous cell value) → press Ctrl + Enter to fill all blanks at once.\n",
        "\n",
        "Filter & Delete:\n",
        "Filter rows with blanks and decide whether to delete or correct those records.\n",
        "\n",
        "Use Formulas:\n",
        "In a helper column, use =IF(ISBLANK(A2), \"Missing\", A2) to mark missing data.\n",
        "\n",
        "Summary Table"
      ],
      "metadata": {
        "id": "EC5At5f4bQtb"
      }
    },
    {
      "cell_type": "markdown",
      "source": [
        "| Tool / Function   | Purpose                               | Example                                  |\n",
        "| ----------------- | ------------------------------------- | ---------------------------------------- |\n",
        "| **Go To Special** | Selects all blank cells               | Select range → Ctrl+G → Special → Blanks |\n",
        "| **ISBLANK()**     | Tests if a cell is blank (TRUE/FALSE) | `=ISBLANK(B2)`                           |\n",
        "| **COUNTBLANK()**  | Counts blank cells in a range         | `=COUNTBLANK(B2:B100)`                   |\n"
      ],
      "metadata": {
        "id": "gPXbtrVzbRxV"
      }
    }
  ]
}